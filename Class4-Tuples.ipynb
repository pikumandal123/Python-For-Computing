{
 "cells": [
  {
   "cell_type": "markdown",
   "metadata": {},
   "source": [
    "# Tuples"
   ]
  },
  {
   "cell_type": "markdown",
   "metadata": {},
   "source": [
    "Tuple is a comma-separated list, however, tuples are immutable."
   ]
  },
  {
   "cell_type": "code",
   "execution_count": 7,
   "metadata": {},
   "outputs": [
    {
     "name": "stdout",
     "output_type": "stream",
     "text": [
      "('a', 'b', 'c')\n",
      "('a',)\n",
      "<class 'tuple'>\n",
      "()\n"
     ]
    }
   ],
   "source": [
    "my_tuple = ('a', 'b', 'c') # a tuple with three elements\n",
    "print(my_tuple)\n",
    "\n",
    "new_tuple = ('a', ) # notice the comman after 'a', this is required to define tuple using a single entry\n",
    "print(new_tuple)\n",
    "print(type(new_tuple))\n",
    "\n",
    "# create a empty tuple\n",
    "new_tuple = tuple() # tupel keyword with no inputs\n",
    "print(new_tuple)"
   ]
  },
  {
   "cell_type": "markdown",
   "metadata": {},
   "source": [
    "If we pass a sequence (e.g. string, list, or tuple) to the tuple function it creases a tuple with the individual element sof the sequence."
   ]
  },
  {
   "cell_type": "code",
   "execution_count": 22,
   "metadata": {},
   "outputs": [
    {
     "name": "stdout",
     "output_type": "stream",
     "text": [
      "('s', 'a', 'p', 't', 'a', 'r', 's', 'h', 'i')\n",
      "('saptarshi', 'pinki')\n",
      "('saptarshi', 'pinki', 'tanni')\n",
      "('pinki', 'tanni')\n"
     ]
    },
    {
     "ename": "TypeError",
     "evalue": "'tuple' object does not support item assignment",
     "output_type": "error",
     "traceback": [
      "\u001b[1;31m---------------------------------------------------------------------------\u001b[0m",
      "\u001b[1;31mTypeError\u001b[0m                                 Traceback (most recent call last)",
      "\u001b[1;32m<ipython-input-22-db96f482774a>\u001b[0m in \u001b[0;36m<module>\u001b[1;34m\u001b[0m\n\u001b[0;32m     15\u001b[0m \u001b[0mprint\u001b[0m\u001b[1;33m(\u001b[0m\u001b[0mname_tuple_tuple\u001b[0m\u001b[1;33m[\u001b[0m\u001b[1;36m1\u001b[0m\u001b[1;33m:\u001b[0m\u001b[1;36m3\u001b[0m\u001b[1;33m]\u001b[0m\u001b[1;33m)\u001b[0m\u001b[1;33m\u001b[0m\u001b[1;33m\u001b[0m\u001b[0m\n\u001b[0;32m     16\u001b[0m \u001b[1;33m\u001b[0m\u001b[0m\n\u001b[1;32m---> 17\u001b[1;33m \u001b[0mname_tuple_tuple\u001b[0m\u001b[1;33m[\u001b[0m\u001b[1;36m0\u001b[0m\u001b[1;33m]\u001b[0m\u001b[1;33m=\u001b[0m \u001b[1;34m'A'\u001b[0m\u001b[1;33m\u001b[0m\u001b[1;33m\u001b[0m\u001b[0m\n\u001b[0m",
      "\u001b[1;31mTypeError\u001b[0m: 'tuple' object does not support item assignment"
     ]
    }
   ],
   "source": [
    "# input as a string \n",
    "name = 'saptarshi'\n",
    "name_tuple = tuple(name)\n",
    "print(name_tuple)\n",
    "\n",
    "# input as a list of names\n",
    "name_list  = ['saptarshi', 'pinki'] \n",
    "name_tuple = tuple(name_list)\n",
    "print(name_tuple)\n",
    "\n",
    "# input as a tuple of names\n",
    "name_tuple = ('saptarshi', 'pinki', 'tanni') \n",
    "name_tuple_tuple = tuple(name_tuple)\n",
    "print(name_tuple_tuple)\n",
    "print(name_tuple_tuple[1:3])\n",
    "\n",
    "name_tuple_tuple[0]= 'A' # error when trying to assign a value using index"
   ]
  },
  {
   "cell_type": "markdown",
   "metadata": {},
   "source": [
    "NOTE: Although, we cannot modify tuples but we can replace one tuple with another."
   ]
  },
  {
   "cell_type": "code",
   "execution_count": 23,
   "metadata": {},
   "outputs": [
    {
     "name": "stdout",
     "output_type": "stream",
     "text": [
      "('saptarshi', 'pinki', 'tanni')\n",
      "('kartick', 'pinki', 'tanni')\n"
     ]
    }
   ],
   "source": [
    "tuple_1 = ('saptarshi', 'pinki', 'tanni') \n",
    "print(tuple_1)\n",
    "\n",
    "tuple_2 = ('kartick', ) + tuple_1[1:]\n",
    "print(tuple_2)"
   ]
  },
  {
   "cell_type": "code",
   "execution_count": 28,
   "metadata": {},
   "outputs": [
    {
     "name": "stdout",
     "output_type": "stream",
     "text": [
      "have\n",
      "fun\n",
      "\n",
      "have\n",
      "fun\n"
     ]
    }
   ],
   "source": [
    "data = ['have', 'fun']\n",
    "part1, part2 = m # the left side can contain two variables\n",
    "print(part1)\n",
    "print(part2)\n",
    "\n",
    "print()\n",
    "\n",
    "# other way of doing this\n",
    "(part1, part2) = m # in my opinion this is more easier to read in case of large code files\n",
    "print(part1)\n",
    "print(part2)"
   ]
  },
  {
   "cell_type": "code",
   "execution_count": 30,
   "metadata": {},
   "outputs": [
    {
     "name": "stdout",
     "output_type": "stream",
     "text": [
      "Before switching\n",
      "Part 1: have\n",
      "Part 2: fun\n",
      "\n",
      "After switching\n",
      "Part 1: fun\n",
      "Part 2: have\n"
     ]
    }
   ],
   "source": [
    "print('Before switching')\n",
    "print('Part 1:', part1)\n",
    "print('Part 2:', part2)\n",
    "\n",
    "print()\n",
    "\n",
    "(part1 , part2) = (part2, part1) # switching the variable values using tuples styles\n",
    "\n",
    "print('After switching')\n",
    "print('Part 1:', part1)\n",
    "print('Part 2:', part2)"
   ]
  },
  {
   "cell_type": "code",
   "execution_count": 32,
   "metadata": {},
   "outputs": [
    {
     "name": "stdout",
     "output_type": "stream",
     "text": [
      "saptarshi gmail.com\n"
     ]
    }
   ],
   "source": [
    "email_address = 'saptarshi@gmail.com'\n",
    "(name, domain) = email_address.split('@')\n",
    "print(name, domain)"
   ]
  },
  {
   "cell_type": "markdown",
   "metadata": {},
   "source": [
    "# Dictionary and Tuple"
   ]
  },
  {
   "cell_type": "markdown",
   "metadata": {},
   "source": [
    "item() function enables us to extract the key value pairs from a dictionary"
   ]
  },
  {
   "cell_type": "code",
   "execution_count": 37,
   "metadata": {},
   "outputs": [
    {
     "name": "stdout",
     "output_type": "stream",
     "text": [
      "[('piku', 10), ('kartick', 30), ('sarbani', 40)]\n"
     ]
    },
    {
     "data": {
      "text/plain": [
       "[('kartick', 30), ('piku', 10), ('sarbani', 40)]"
      ]
     },
     "execution_count": 37,
     "metadata": {},
     "output_type": "execute_result"
    }
   ],
   "source": [
    "name_age_dict = {'piku': 10, 'kartick': 30, 'sarbani': 40} # create a dictionary\n",
    "name_age_tuple = list(name_age_dict.items()) # extract items from the dictionary and convert into a list \n",
    "\n",
    "print(name_age_tuple)\n",
    "name_age_tuple[1]\n",
    "\n",
    "name_age_tuple.sort() # sort the tuple into alphabetical order\n",
    "name_age_tuple"
   ]
  },
  {
   "cell_type": "markdown",
   "metadata": {},
   "source": [
    "We can traverse the key and value pairs of a dictionary using items and loop. "
   ]
  },
  {
   "cell_type": "code",
   "execution_count": 38,
   "metadata": {},
   "outputs": [
    {
     "name": "stdout",
     "output_type": "stream",
     "text": [
      "piku 10\n",
      "kartick 30\n",
      "sarbani 40\n"
     ]
    }
   ],
   "source": [
    "name_age_dict = {'piku': 10, 'kartick': 30, 'sarbani': 40} # create a dictionary\n",
    "\n",
    "for key,value in list(name_age_dict.items()):\n",
    "    print(key, value)"
   ]
  },
  {
   "cell_type": "markdown",
   "metadata": {},
   "source": [
    "We can sort the key value pairs extracted from a dictionary usign the sort command on a list. Lets see how.\n"
   ]
  },
  {
   "cell_type": "code",
   "execution_count": 39,
   "metadata": {},
   "outputs": [
    {
     "name": "stdout",
     "output_type": "stream",
     "text": [
      "[(40, 'sarbani'), (30, 'kartick'), (10, 'piku')]\n"
     ]
    }
   ],
   "source": [
    "name_age_dict = {'piku': 10, 'kartick': 30, 'sarbani': 40}\n",
    "key_value_list = list()  # empty list\n",
    "\n",
    "# --- loop to extract key value pairs and add it to the list \n",
    "for key, value in name_age_dict.items():\n",
    "    tuple_to_append = (value, key)# get the items to add, NOTE: value comes before key as we will be using value for sorting \n",
    "    key_value_list.append(tuple_to_append) # add the item to the list\n",
    "\n",
    "# once the list is completed sort it \n",
    "key_value_list.sort(reverse = True)  # reverse = True will sort the values in a decreasing order\n",
    "print(key_value_list)"
   ]
  },
  {
   "cell_type": "markdown",
   "metadata": {},
   "source": [
    "# Tuples as keys in dictionaries"
   ]
  },
  {
   "cell_type": "markdown",
   "metadata": {},
   "source": [
    "This is useful if we want more than one element as the key (also clled composite key) in a dictionary "
   ]
  },
  {
   "cell_type": "code",
   "execution_count": 9,
   "metadata": {},
   "outputs": [
    {
     "name": "stdout",
     "output_type": "stream",
     "text": [
      "{('saptarshi', 'mandal'): 32, ('piku', 'mandal'): 40}\n",
      "\n",
      "saptarshi mandal 32\n",
      "piku mandal 40\n"
     ]
    }
   ],
   "source": [
    "first_name = 'saptarshi'\n",
    "last_name  = 'mandal'\n",
    "\n",
    "name_age_dict = dict() # initialize empty dictionary\n",
    "name_age_dict[first_name, last_name ] = 32 # insert key value pairs \n",
    "name_age_dict['piku', 'mandal'] = 40\n",
    "\n",
    "print(name_age_dict)\n",
    "\n",
    "print()\n",
    "\n",
    "# traverse the dictionary usign loop on tuples\n",
    "for first, last in name_age_dict:\n",
    "    print(first, last, name_age_dict[first, last])\n",
    "\n"
   ]
  },
  {
   "cell_type": "code",
   "execution_count": 3,
   "metadata": {},
   "outputs": [
    {
     "name": "stdout",
     "output_type": "stream",
     "text": [
      "haha\n"
     ]
    }
   ],
   "source": [
    "print('haha')"
   ]
  },
  {
   "cell_type": "code",
   "execution_count": null,
   "metadata": {},
   "outputs": [],
   "source": []
  }
 ],
 "metadata": {
  "kernelspec": {
   "display_name": "Python 3",
   "language": "python",
   "name": "python3"
  },
  "language_info": {
   "codemirror_mode": {
    "name": "ipython",
    "version": 3
   },
   "file_extension": ".py",
   "mimetype": "text/x-python",
   "name": "python",
   "nbconvert_exporter": "python",
   "pygments_lexer": "ipython3",
   "version": "3.7.4"
  }
 },
 "nbformat": 4,
 "nbformat_minor": 2
}
