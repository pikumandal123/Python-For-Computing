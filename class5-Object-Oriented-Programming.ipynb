{
 "cells": [
  {
   "cell_type": "markdown",
   "metadata": {},
   "source": [
    "# Create a Python object"
   ]
  },
  {
   "cell_type": "markdown",
   "metadata": {},
   "source": [
    "The keyword 'class' is used to define a python object. "
   ]
  },
  {
   "cell_type": "code",
   "execution_count": 5,
   "metadata": {},
   "outputs": [],
   "source": [
    "# define an object \n",
    "class PartyAnimal:\n",
    "    \n",
    "    # attribute of the object\n",
    "    x = 0 \n",
    "    \n",
    "    # method inside the object\n",
    "    def party(self): # note: the parameter to the method is self\n",
    "        self.x = self.x + 1\n",
    "        print('So far', self.x)\n",
    "\n"
   ]
  },
  {
   "cell_type": "markdown",
   "metadata": {},
   "source": [
    "The keyword 'class' defines a template that indicates what data (attribute) and code will be contained in each object of the type PartyAnimal."
   ]
  },
  {
   "cell_type": "code",
   "execution_count": 7,
   "metadata": {},
   "outputs": [
    {
     "name": "stdout",
     "output_type": "stream",
     "text": [
      "So far 1\n",
      "So far 2\n",
      "So far 3\n"
     ]
    }
   ],
   "source": [
    "# Create an object\n",
    "an = PartyAnimal() # directs Python to create an instance of the class PartyAnimal and assing it to varaiable an  \n",
    "\n",
    "# two ways of accesing the methods defined wihtin a class\n",
    "\n",
    "# method 1\n",
    "PartyAnimal.party(an) # Class_Name.method_name(class_instance)\n",
    "\n",
    "# Method 1\n",
    "an.party() # calls the party method first time\n",
    "an.party() # calls the party method second time"
   ]
  },
  {
   "cell_type": "markdown",
   "metadata": {},
   "source": [
    "We can use built in funciton i.e. type() and dir() to know about the details fot he class variable "
   ]
  },
  {
   "cell_type": "code",
   "execution_count": 14,
   "metadata": {},
   "outputs": [
    {
     "name": "stdout",
     "output_type": "stream",
     "text": [
      "Type of an :  <class '__main__.PartyAnimal'>\n",
      "\n",
      "Dir of an :  ['__class__', '__delattr__', '__dict__', '__dir__', '__doc__', '__eq__', '__format__', '__ge__', '__getattribute__', '__gt__', '__hash__', '__init__', '__init_subclass__', '__le__', '__lt__', '__module__', '__ne__', '__new__', '__reduce__', '__reduce_ex__', '__repr__', '__setattr__', '__sizeof__', '__str__', '__subclasshook__', '__weakref__', 'party', 'x']\n",
      "\n",
      "Type of an.x :  <class 'int'>\n",
      "\n",
      "Type of an.party : ['__call__', '__class__', '__delattr__', '__dir__', '__doc__', '__eq__', '__format__', '__func__', '__ge__', '__get__', '__getattribute__', '__gt__', '__hash__', '__init__', '__init_subclass__', '__le__', '__lt__', '__ne__', '__new__', '__reduce__', '__reduce_ex__', '__repr__', '__self__', '__setattr__', '__sizeof__', '__str__', '__subclasshook__']\n"
     ]
    }
   ],
   "source": [
    "an = PartyAnimal()\n",
    "print('Type of an : ', type(an))\n",
    "print()\n",
    "print('Dir of an : ', dir(an))\n",
    "print()\n",
    "print('Type of an.x : ', type(an.x))\n",
    "print()\n",
    "print('Type of an.party :', dir(an.party))"
   ]
  },
  {
   "cell_type": "markdown",
   "metadata": {},
   "source": [
    "NOTE: notice the attribute party and x when dir(an)is executed"
   ]
  },
  {
   "cell_type": "markdown",
   "metadata": {},
   "source": [
    "# Object lifecycle"
   ]
  },
  {
   "cell_type": "markdown",
   "metadata": {},
   "source": [
    "Let's add few methods to a class variable which will be executed when it is created and/or destroyed respectively. The method should be named __ init __ for creation and __ del__ for deletion. "
   ]
  },
  {
   "cell_type": "code",
   "execution_count": 23,
   "metadata": {},
   "outputs": [
    {
     "name": "stdout",
     "output_type": "stream",
     "text": [
      "Hey there, an instance for partyAnimal is created\n",
      "So far 1\n",
      "animal type is  <class '__main__.PartyAnimal'>\n",
      "\n",
      "New animal assignment done\n",
      "\n",
      "Ok, I am now destroyed\n",
      "Now the animal value is  30\n",
      "animal type is  <class 'int'>\n"
     ]
    }
   ],
   "source": [
    "# define a class object \n",
    "class PartyAnimal:\n",
    "    \n",
    "    # attribute of the object\n",
    "    x = 0 \n",
    "    \n",
    "    # method executed when the instance is created\n",
    "    def __init__(self): # note there are two underscore characters ('__') before and after init\n",
    "        print('Hey there, an instance for partyAnimal is created')\n",
    "    \n",
    "    \n",
    "    # method inside the object\n",
    "    def party(self): # note: the parameter to the method is self\n",
    "        self.x = self.x + 1\n",
    "        print('So far', self.x)\n",
    "        \n",
    "    # method executed when the instance is deleted\n",
    "    def __del__(self): # note there are two underscore characters ('__') before and after del\n",
    "        print('Ok, I am now destroyed')\n",
    "        \n",
    "#**************************************************************************        \n",
    "        \n",
    "animal = PartyAnimal()\n",
    "animal.party()\n",
    "print('animal type is ', type(animal))\n",
    "\n",
    "print('\\nNew animal assignment done\\n')\n",
    "\n",
    "animal = 30 \n",
    "print('Now the animal value is ', animal)\n",
    "print('animal type is ', type(animal))"
   ]
  },
  {
   "cell_type": "markdown",
   "metadata": {},
   "source": [
    "When we do assign animal = 30 the old instance of the variale animal which is of type class PartyAnimal is deleted; as a result it call method __ del__() method. Afterwards, animla is assigned vlaue 30. Note the two different typesof the variable animal before and after assignment is done. "
   ]
  },
  {
   "cell_type": "markdown",
   "metadata": {},
   "source": [
    "# Multiple instances of object"
   ]
  },
  {
   "cell_type": "markdown",
   "metadata": {},
   "source": [
    "We can create multiple instances of the same class and also assign different initial values to each of the instances.\n"
   ]
  },
  {
   "cell_type": "code",
   "execution_count": 28,
   "metadata": {},
   "outputs": [
    {
     "name": "stdout",
     "output_type": "stream",
     "text": [
      "Saptarshi is created\n",
      "So far Saptarshi is called 1 times\n",
      "So far Saptarshi is called 2 times\n",
      "\n",
      "Piku is created\n",
      "So far Piku is called 1 times\n"
     ]
    }
   ],
   "source": [
    "# define a class object \n",
    "class PartyAnimal:\n",
    "    \n",
    "    # attributes of the object\n",
    "    x = 0 \n",
    "    name = ''\n",
    "    \n",
    "    #----------------------------------------------\n",
    "    # method executed when the instance is created\n",
    "    #----------------------------------------------\n",
    "    # self is the parameter thats poins to the object instance when it is created\n",
    "    #\n",
    "    # name_value is the input provided byt he user when the istance is created. \n",
    "    # It is assigned to variable name\n",
    "    def __init__(self, name_value): \n",
    "        \n",
    "        self.name = name_value # the input value is assigned to the attribute name within the object instance\n",
    "        print(self.name , 'is created')\n",
    "    \n",
    "    #----------------------------------------------\n",
    "    # method inside the object\n",
    "    #----------------------------------------------\n",
    "    def party(self): # note: the parameter to the method is self\n",
    "        self.x = self.x + 1\n",
    "        print('So far', self.name, 'is called', self.x, 'times')\n",
    "        \n",
    "        \n",
    "#**************************************************************************  \n",
    "\n",
    "s = PartyAnimal('Saptarshi') # first instance of class PartyAnimal\n",
    "s.party()\n",
    "s.party()\n",
    "\n",
    "print()\n",
    "\n",
    "p = PartyAnimal('Piku') # Second instance of class PartyAnimal\n",
    "p.party()"
   ]
  },
  {
   "cell_type": "markdown",
   "metadata": {},
   "source": [
    "# Inheritance property"
   ]
  },
  {
   "cell_type": "markdown",
   "metadata": {},
   "source": [
    "This is the poperty that allows us to create a new class by extending an existing class. When this extending is done, the original class is called parent/base class and the new class is called child/derived class."
   ]
  },
  {
   "cell_type": "markdown",
   "metadata": {},
   "source": [
    "We can import the parent class using the import function. "
   ]
  },
  {
   "cell_type": "code",
   "execution_count": 36,
   "metadata": {},
   "outputs": [
    {
     "name": "stdout",
     "output_type": "stream",
     "text": [
      "saptarshi mandal\n"
     ]
    }
   ],
   "source": [
    "# define parent class\n",
    "class parent:\n",
    "    \n",
    "    def __init__(self, firstname, lastname):\n",
    "        \n",
    "        self.fname = firstname\n",
    "        self.lname = lastname\n",
    "        \n",
    "    def printname(self):\n",
    "        \n",
    "        print(self.fname, self.lname)\n",
    "        \n",
    "#************************************************\n",
    "\n",
    "# define child class\n",
    "class child(parent) : # child inherits the parent class properties\n",
    "    \n",
    "    # pass keyword i used if we dont want to add any\n",
    "    # other properties or methods to the class\n",
    "    pass \n",
    "    \n",
    "#**************************************************    \n",
    "\n",
    "x = child('saptarshi', 'mandal') # create a child class instance\n",
    "x.printname() # call the method which the child class inherits\n",
    "\n"
   ]
  },
  {
   "cell_type": "markdown",
   "metadata": {},
   "source": [
    "If we add the '__ init__()' method to a child class it no longer inherits the parents '__ intit__()' method.\n",
    "However, even after defining the '__ init__()' method inside a child class you still want to inherit the '__ init__()' method from the parent class, we need to give a class to the parents class' '__ init__()' method\n",
    "\n",
    "\n",
    "\n"
   ]
  },
  {
   "cell_type": "code",
   "execution_count": 47,
   "metadata": {},
   "outputs": [],
   "source": [
    "# define child class\n",
    "class child(parent) : # child inherits the parent class properties\n",
    "    \n",
    "    def __init__(self, firstname, lastname): \n",
    "        \n",
    "        parent.__intit__(self, firstname, lastname) # line added to inherit parent class __init__ method\n"
   ]
  },
  {
   "cell_type": "markdown",
   "metadata": {},
   "source": [
    "However, there is simple way to inherit all methods of the parent class - using the super() function.\n",
    "Using the super() function, we do not have to use the name of the parent element, it will automatically inherit the methods and properties from its parent.\n"
   ]
  },
  {
   "cell_type": "code",
   "execution_count": 51,
   "metadata": {},
   "outputs": [],
   "source": [
    "# define child class\n",
    "class child(parent) : # child inherits the parent class properties\n",
    "    \n",
    "    def __init__(self, firstname, lastname, year): \n",
    "        \n",
    "        parent.__init__(self, firstname, lastname) # code to provide inheritance of parent __init__() method\n",
    "        \n",
    "        self.graduationyear = year\n"
   ]
  },
  {
   "cell_type": "code",
   "execution_count": 52,
   "metadata": {},
   "outputs": [],
   "source": [
    "x = child('piku', 'mandal', 2019)"
   ]
  },
  {
   "cell_type": "code",
   "execution_count": 54,
   "metadata": {},
   "outputs": [],
   "source": [
    "# define child class\n",
    "class child(parent) : # child inherits the parent class properties\n",
    "    \n",
    "    def __init__(self, firstname, lastname, year): \n",
    "        \n",
    "        super().__init__(firstname, lastname) # we can replace all parent call by usign super() function\n",
    "        \n",
    "        self.graduationyear = year # extra property added to the child class\n",
    "        \n",
    "        \n",
    "y = child('tanni', 'mandal', 2010)"
   ]
  },
  {
   "cell_type": "markdown",
   "metadata": {},
   "source": [
    "We can also add methods to child class. "
   ]
  },
  {
   "cell_type": "code",
   "execution_count": 58,
   "metadata": {},
   "outputs": [],
   "source": [
    "# define child class\n",
    "class child(parent) : # child inherits the parent class properties\n",
    "    \n",
    "    def __init__(self, firstname, lastname, year): \n",
    "        self.fname = firstname\n",
    "        self.lname = lastname\n",
    "        \n",
    "        super().__init__(firstname, lastname) # we can replace all parent call by usign super() function\n",
    "        \n",
    "        self.graduationyear = year # extra property added to the child class\n",
    "        \n",
    "    def welcome_msg(self):\n",
    "        print('Welcome',self.fname, self.lname, 'to the class of ', self.graduationyear)\n",
    "        "
   ]
  },
  {
   "cell_type": "code",
   "execution_count": 59,
   "metadata": {},
   "outputs": [
    {
     "name": "stdout",
     "output_type": "stream",
     "text": [
      "Welcome kartick mandal to the class of  2015\n"
     ]
    }
   ],
   "source": [
    "s = child('kartick', 'mandal', 2015)\n",
    "s.welcome_msg()"
   ]
  },
  {
   "cell_type": "code",
   "execution_count": null,
   "metadata": {},
   "outputs": [],
   "source": []
  }
 ],
 "metadata": {
  "kernelspec": {
   "display_name": "Python 3",
   "language": "python",
   "name": "python3"
  },
  "language_info": {
   "codemirror_mode": {
    "name": "ipython",
    "version": 3
   },
   "file_extension": ".py",
   "mimetype": "text/x-python",
   "name": "python",
   "nbconvert_exporter": "python",
   "pygments_lexer": "ipython3",
   "version": "3.7.4"
  }
 },
 "nbformat": 4,
 "nbformat_minor": 2
}
