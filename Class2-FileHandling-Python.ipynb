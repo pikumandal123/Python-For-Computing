{
 "cells": [
  {
   "cell_type": "markdown",
   "metadata": {},
   "source": [
    "# Basic file handling in Python"
   ]
  },
  {
   "cell_type": "markdown",
   "metadata": {},
   "source": [
    "Before we can actually work with a file we need to tell python which file we are going to work with. In detail, we need to open a file using the 'open()' function and it return we get a file handle. using this handle we can maiputale the file we want."
   ]
  },
  {
   "cell_type": "code",
   "execution_count": 2,
   "metadata": {},
   "outputs": [
    {
     "name": "stdout",
     "output_type": "stream",
     "text": [
      "<_io.TextIOWrapper name='MyDetails.txt' mode='r' encoding='cp1252'>\n"
     ]
    }
   ],
   "source": [
    "# open a file and get the file handle as output\n",
    "# file_handle = open(filename, mode) , mode can be 'r' for read or 'w' for write\n",
    "file_handle = open('MyDetails.txt', 'r')\n",
    "print(file_handle) # print the details fo the file handle"
   ]
  },
  {
   "cell_type": "markdown",
   "metadata": {},
   "source": [
    "Now since we know how to open a text file, lets see how to process a file. "
   ]
  },
  {
   "cell_type": "markdown",
   "metadata": {},
   "source": [
    "NOTE: We can treat the file handle as sequence of strings. This string sequence is composed of each of the lines of the file we just open in read mode. Thus, we can use a loop to read through this sequnece of strings. Lets see how to do it.\n"
   ]
  },
  {
   "cell_type": "code",
   "execution_count": 21,
   "metadata": {},
   "outputs": [
    {
     "name": "stdout",
     "output_type": "stream",
     "text": [
      "Hi there!, I'm Saptarshi Mandal, a final year PhD candidate in the department of \n",
      "\n",
      "Industrial and Systems Engineering at the University of Oklahoma.\n",
      "\n",
      "My research interest involves developing novel analysis frameworks (both quantitative and qualitative) \n",
      "\n",
      "to solve issues in complex human-integrated systems. In detail, I'm very much interested in \n",
      "\n",
      "leveraging the power of Data Analytics and Machine Learning to evaluate and optimize systems where\n",
      "\n",
      "Human beings are an integral part, e.g. Air traffic control, Industrial safety etc. \n"
     ]
    }
   ],
   "source": [
    "file_handle = open('MyDetails.txt', 'r') # get the file handle\n",
    "\n",
    "# loop through the file handle to print each line fo the file\n",
    "for index in file_handle:\n",
    "    #index = index.rstrip() # removes the whitesace(e.g. \\n character) after each line\n",
    "    print (index)"
   ]
  },
  {
   "cell_type": "markdown",
   "metadata": {},
   "source": [
    "How do we count the number of lines in file. This can be done by including a variable inside the for loop thats increments its value everytime the loop runs."
   ]
  },
  {
   "cell_type": "code",
   "execution_count": 9,
   "metadata": {},
   "outputs": [
    {
     "name": "stdout",
     "output_type": "stream",
     "text": [
      "Number of lines in the file:  6\n"
     ]
    }
   ],
   "source": [
    "file_handle = open('MyDetails.txt', 'r') # get the file handle\n",
    "count = 0 # initialise the count variable to 0\n",
    "\n",
    "# loop through the file handle to print each line of the file\n",
    "for index in file_handle:\n",
    "    count = count + 1 # increase it svalue everytime the loop runs\n",
    "    \n",
    "print('Number of lines in the file: ', count)"
   ]
  },
  {
   "cell_type": "markdown",
   "metadata": {},
   "source": [
    "Another way to read the whole file into a single string is to use th read() method to the file handler. This methods reads everything as a single string including the newline character.\n"
   ]
  },
  {
   "cell_type": "code",
   "execution_count": null,
   "metadata": {},
   "outputs": [],
   "source": [
    "file_handle = open('MyDetails.txt', 'r')\n",
    "content = file_handle.read()\n",
    "\n",
    "print('File size: ', len(content)) # print the length of content\n",
    "print('First few words: ' + content[:40]) # print first 40 characters\n",
    "\n",
    "print()\n",
    "\n",
    "print(content) # Show all the content at one go. "
   ]
  },
  {
   "cell_type": "markdown",
   "metadata": {},
   "source": [
    "We can use input function to ask user for inputs, e.g. filenames. Let see how to use it.\n"
   ]
  },
  {
   "cell_type": "code",
   "execution_count": 10,
   "metadata": {},
   "outputs": [
    {
     "name": "stdout",
     "output_type": "stream",
     "text": [
      "Enter filename you want to read: MyDetails.txt\n",
      "Filename entered: MyDetails.txt\n",
      "\n",
      "Current Line:  1\n",
      "No info about research\n",
      "\n",
      "Current Line:  2\n",
      "No info about research\n",
      "\n",
      "Current Line:  3\n",
      "Research info: My research interest involves developing novel analysis frameworks (both quantitative and qualitative) \n",
      "\n",
      "\n",
      "Current Line:  4\n",
      "No info about research\n",
      "\n",
      "Current Line:  5\n",
      "No info about research\n",
      "\n",
      "Current Line:  6\n",
      "No info about research\n",
      "\n"
     ]
    }
   ],
   "source": [
    "filename = input('Enter filename you want to read: ')\n",
    "print('Filename entered: ' + filename)\n",
    "print()\n",
    "\n",
    "# error handling usign try/except block\n",
    "try:\n",
    "    file_handle = open(filename, 'r')  \n",
    "except:\n",
    "    print('File not found')\n",
    "    quit()\n",
    "    \n",
    "count = 0 # index for coutning current line number\n",
    "for line in file_handle:\n",
    "    \n",
    "    count = count + 1 # increase line number value everytime the loops runs\n",
    "    print('Current Line: ', count) # print the current line number\n",
    "    \n",
    "    if line.find('research') != -1: # if research substring exists in the current line the value is not equal to -1\n",
    "        print('Research info: '+ line) \n",
    "        \n",
    "    else:\n",
    "        print('No info about research')  \n",
    "    \n",
    "    print()"
   ]
  },
  {
   "cell_type": "code",
   "execution_count": null,
   "metadata": {},
   "outputs": [],
   "source": []
  }
 ],
 "metadata": {
  "kernelspec": {
   "display_name": "Python 3",
   "language": "python",
   "name": "python3"
  },
  "language_info": {
   "codemirror_mode": {
    "name": "ipython",
    "version": 3
   },
   "file_extension": ".py",
   "mimetype": "text/x-python",
   "name": "python",
   "nbconvert_exporter": "python",
   "pygments_lexer": "ipython3",
   "version": "3.7.4"
  }
 },
 "nbformat": 4,
 "nbformat_minor": 2
}
