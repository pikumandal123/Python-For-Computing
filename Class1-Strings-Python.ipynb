{
 "cells": [
  {
   "cell_type": "markdown",
   "metadata": {},
   "source": [
    "# String in Python"
   ]
  },
  {
   "cell_type": "code",
   "execution_count": 3,
   "metadata": {},
   "outputs": [
    {
     "name": "stdout",
     "output_type": "stream",
     "text": [
      "6\n",
      "a\n"
     ]
    }
   ],
   "source": [
    "fruit = 'banana'\n",
    "print(len(fruit)) # get length of the string variable\n",
    "print(fruit[1]) # in python the index starts at 0"
   ]
  },
  {
   "cell_type": "code",
   "execution_count": 7,
   "metadata": {},
   "outputs": [
    {
     "name": "stdout",
     "output_type": "stream",
     "text": [
      "0 b\n",
      "1 a\n",
      "2 n\n",
      "3 a\n",
      "4 n\n",
      "5 a\n"
     ]
    }
   ],
   "source": [
    "# loop through string\n",
    "fruit = 'banana'\n",
    "index = 0\n",
    "while index < len(fruit):\n",
    "    letter = fruit[index] # get the letter at the index position\n",
    "    print(index, letter) # print index and the letter in it\n",
    "    index = index + 1 # increate index counter"
   ]
  },
  {
   "cell_type": "code",
   "execution_count": 15,
   "metadata": {},
   "outputs": [
    {
     "name": "stdout",
     "output_type": "stream",
     "text": [
      "Fruit name;  brinjal # of a: 1\n"
     ]
    }
   ],
   "source": [
    "# using for loop to index through the string\n",
    "# count number of 'a' in the fruit variable\n",
    "fruit = 'brinjal'\n",
    "count = 0\n",
    "for letter in fruit:\n",
    "    if letter == 'a':\n",
    "        count = count + 1\n",
    "        \n",
    "print('Fruit name; ', fruit, '# of a:',count)\n",
    "    "
   ]
  },
  {
   "cell_type": "markdown",
   "metadata": {},
   "source": [
    "Let's see how to slice strings. \n",
    "We will use the colon (:) operator. string_variable [start_index : end_index-1]"
   ]
  },
  {
   "cell_type": "code",
   "execution_count": 18,
   "metadata": {},
   "outputs": [
    {
     "name": "stdout",
     "output_type": "stream",
     "text": [
      "b\n",
      "brinjal\n",
      "brinjal\n"
     ]
    }
   ],
   "source": [
    "fruit = 'brinjal'\n",
    "print(fruit[0:1]) \n",
    "print(fruit[0:len(fruit)+1]) \n",
    "print(fruit[0:len(fruit)+5])"
   ]
  },
  {
   "cell_type": "markdown",
   "metadata": {},
   "source": [
    "Notice the second and third print statement gives the same result. So, even if we go over the length of the string variable the print ony goes till the lemgth of the variable."
   ]
  },
  {
   "cell_type": "code",
   "execution_count": 20,
   "metadata": {},
   "outputs": [
    {
     "name": "stdout",
     "output_type": "stream",
     "text": [
      "b\n",
      "brinjal\n",
      "rinjal\n",
      "brinjal\n"
     ]
    }
   ],
   "source": [
    "fruit = 'brinjal'\n",
    "print(fruit[0:1]) \n",
    "print(fruit[:len(fruit)+1]) # print the whole variable: Note no starting index is given\n",
    "print(fruit[1:]) # starting from secodn index print rest of the string\n",
    "print(fruit[:]) # print the whole variable"
   ]
  },
  {
   "cell_type": "markdown",
   "metadata": {},
   "source": [
    "Using 'in' operator "
   ]
  },
  {
   "cell_type": "code",
   "execution_count": 21,
   "metadata": {},
   "outputs": [
    {
     "name": "stdout",
     "output_type": "stream",
     "text": [
      "result match found\n"
     ]
    }
   ],
   "source": [
    "fruit = 'brinjal'\n",
    "\n",
    "if 'al' in fruit:\n",
    "    print ('result match found')"
   ]
  },
  {
   "cell_type": "markdown",
   "metadata": {},
   "source": [
    "String comparision using == operator"
   ]
  },
  {
   "cell_type": "code",
   "execution_count": 22,
   "metadata": {},
   "outputs": [
    {
     "name": "stdout",
     "output_type": "stream",
     "text": [
      "new word comes after  brinjal\n"
     ]
    }
   ],
   "source": [
    "fruit = 'brinjal'\n",
    "new_word = 'grape'\n",
    "\n",
    "if new_word == fruit:\n",
    "    print('Both words are same')\n",
    "elif new_word > fruit:\n",
    "    print('new word comes after ', fruit)\n",
    "elif new_word < fruit:\n",
    "    print('new word comes before ', fruit)"
   ]
  },
  {
   "cell_type": "markdown",
   "metadata": {},
   "source": [
    "Various string functions "
   ]
  },
  {
   "cell_type": "code",
   "execution_count": 25,
   "metadata": {},
   "outputs": [
    {
     "data": {
      "text/plain": [
       "'saptarshi mandal'"
      ]
     },
     "execution_count": 25,
     "metadata": {},
     "output_type": "execute_result"
    }
   ],
   "source": [
    "# lowercase a string variable\n",
    "name = 'SAPTARSHI MANDAL'\n",
    "name.lower() # lower function "
   ]
  },
  {
   "cell_type": "code",
   "execution_count": 26,
   "metadata": {},
   "outputs": [
    {
     "data": {
      "text/plain": [
       "str"
      ]
     },
     "execution_count": 26,
     "metadata": {},
     "output_type": "execute_result"
    }
   ],
   "source": [
    "# get the type of variable using type fuction\n",
    "type(name)"
   ]
  },
  {
   "cell_type": "code",
   "execution_count": 28,
   "metadata": {},
   "outputs": [
    {
     "name": "stdout",
     "output_type": "stream",
     "text": [
      "['__add__', '__class__', '__contains__', '__delattr__', '__dir__', '__doc__', '__eq__', '__format__', '__ge__', '__getattribute__', '__getitem__', '__getnewargs__', '__gt__', '__hash__', '__init__', '__init_subclass__', '__iter__', '__le__', '__len__', '__lt__', '__mod__', '__mul__', '__ne__', '__new__', '__reduce__', '__reduce_ex__', '__repr__', '__rmod__', '__rmul__', '__setattr__', '__sizeof__', '__str__', '__subclasshook__', 'capitalize', 'casefold', 'center', 'count', 'encode', 'endswith', 'expandtabs', 'find', 'format', 'format_map', 'index', 'isalnum', 'isalpha', 'isascii', 'isdecimal', 'isdigit', 'isidentifier', 'islower', 'isnumeric', 'isprintable', 'isspace', 'istitle', 'isupper', 'join', 'ljust', 'lower', 'lstrip', 'maketrans', 'partition', 'replace', 'rfind', 'rindex', 'rjust', 'rpartition', 'rsplit', 'rstrip', 'split', 'splitlines', 'startswith', 'strip', 'swapcase', 'title', 'translate', 'upper', 'zfill']\n"
     ]
    }
   ],
   "source": [
    "# get a list of various methods a string variable is capable of \n",
    "print(dir(name)) # dir(variable) gives out the list of various methods possible for class str "
   ]
  },
  {
   "cell_type": "code",
   "execution_count": 30,
   "metadata": {},
   "outputs": [
    {
     "data": {
      "text/plain": [
       "'Saptarshi mandal'"
      ]
     },
     "execution_count": 30,
     "metadata": {},
     "output_type": "execute_result"
    }
   ],
   "source": [
    "name.capitalize() # capitalise the name variable"
   ]
  },
  {
   "cell_type": "markdown",
   "metadata": {},
   "source": [
    "Searching for substring insize a string variable"
   ]
  },
  {
   "cell_type": "code",
   "execution_count": 32,
   "metadata": {},
   "outputs": [
    {
     "name": "stdout",
     "output_type": "stream",
     "text": [
      "Position of AP 1\n",
      "Position of AX -1\n"
     ]
    }
   ],
   "source": [
    "# we cna use find() function to search for substring within a string\n",
    "name      = 'SAPTARSHI MANDAL'\n",
    "\n",
    "sub_str_1 = 'AP' # sub string to find\n",
    "sub_str_2 = 'AX' # sub string to find\n",
    "\n",
    "position_str_1 = name.find(sub_str_1) # store the position of the substring\n",
    "position_str_2 = name.find(sub_str_2) # store the position of the substring\n",
    "\n",
    "print('Position of '+ sub_str_1 , position_str_1) # + used to concatenate two strings \n",
    "print('Position of '+ sub_str_2 , position_str_2)"
   ]
  },
  {
   "cell_type": "markdown",
   "metadata": {},
   "source": [
    "The subtring 'AP' starts at position 1 and -1 shows that substring 'AX' is not found in the string name."
   ]
  },
  {
   "cell_type": "markdown",
   "metadata": {},
   "source": [
    "How to replace a substring? \n",
    "We will use the replace(X,Y) function, e.g. string.replace(X,Y) replaces all occurences of 'X' with 'Y' from the string."
   ]
  },
  {
   "cell_type": "code",
   "execution_count": 40,
   "metadata": {},
   "outputs": [
    {
     "name": "stdout",
     "output_type": "stream",
     "text": [
      "Old name: saptarshi mandal\n",
      "Replaced name: piku mandal\n"
     ]
    }
   ],
   "source": [
    "name = 'SAPTARSHI MANDAL'\n",
    "new_name = name.lower()\n",
    "print('Old name: ' + new_name)\n",
    "replaced_name = new_name.replace('saptarshi', 'piku')\n",
    "print('Replaced name: ' + replaced_name)"
   ]
  },
  {
   "cell_type": "markdown",
   "metadata": {},
   "source": [
    "How to remove whitespaces (e.g. newline, spaces etc.)?\n",
    "We can use lstrip(), to remove left whitespace, or rstrip() to remove right whitespaces, or strip()to remove both left and right whitespaces"
   ]
  },
  {
   "cell_type": "code",
   "execution_count": 52,
   "metadata": {},
   "outputs": [
    {
     "data": {
      "text/plain": [
       "'SAPTARSHI MANDAL   '"
      ]
     },
     "execution_count": 52,
     "metadata": {},
     "output_type": "execute_result"
    }
   ],
   "source": [
    "name = '   SAPTARSHI MANDAL   '\n",
    "name.lstrip() # remove white space at the right"
   ]
  },
  {
   "cell_type": "code",
   "execution_count": 53,
   "metadata": {},
   "outputs": [
    {
     "data": {
      "text/plain": [
       "'   SAPTARSHI MANDAL'"
      ]
     },
     "execution_count": 53,
     "metadata": {},
     "output_type": "execute_result"
    }
   ],
   "source": [
    "name.rstrip() # remove white space at the right"
   ]
  },
  {
   "cell_type": "code",
   "execution_count": 54,
   "metadata": {},
   "outputs": [
    {
     "data": {
      "text/plain": [
       "'SAPTARSHI MANDAL'"
      ]
     },
     "execution_count": 54,
     "metadata": {},
     "output_type": "execute_result"
    }
   ],
   "source": [
    "name.strip() # remove all left and right whitespaces"
   ]
  },
  {
   "cell_type": "markdown",
   "metadata": {},
   "source": [
    "How to find prefixes? by using startwith() method"
   ]
  },
  {
   "cell_type": "code",
   "execution_count": 51,
   "metadata": {},
   "outputs": [
    {
     "data": {
      "text/plain": [
       "True"
      ]
     },
     "execution_count": 51,
     "metadata": {},
     "output_type": "execute_result"
    }
   ],
   "source": [
    "line = 'hey, how are you?'\n",
    "line.startswith('hey') # does the line starts with 'hey'"
   ]
  },
  {
   "cell_type": "markdown",
   "metadata": {},
   "source": [
    "How to extract a certain portion of s string?\n",
    "We can use the find() method. "
   ]
  },
  {
   "cell_type": "code",
   "execution_count": 60,
   "metadata": {},
   "outputs": [
    {
     "name": "stdout",
     "output_type": "stream",
     "text": [
      "@ occurs at:  3\n",
      ". occurs at:  9\n",
      "strign between @ and . is:  gmail\n"
     ]
    }
   ],
   "source": [
    "msg = 'abc@gmail.com'\n",
    "pos_of_email_identifier = msg.find('@') # get position of the @ symbol\n",
    "print('@ occurs at: ', pos_of_email_identifier )\n",
    "pos_dot = msg.find('.', pos_of_email_identifier) # starting from the @ position find where the '.' occurs\n",
    "print('. occurs at: ', pos_dot)\n",
    "print('strign between @ and . is: ' , msg[pos_of_email_identifier +1 : pos_dot]) # extract the substring between @ and . symbol"
   ]
  },
  {
   "cell_type": "code",
   "execution_count": null,
   "metadata": {},
   "outputs": [],
   "source": []
  },
  {
   "cell_type": "code",
   "execution_count": null,
   "metadata": {},
   "outputs": [],
   "source": []
  }
 ],
 "metadata": {
  "kernelspec": {
   "display_name": "Python 3",
   "language": "python",
   "name": "python3"
  },
  "language_info": {
   "codemirror_mode": {
    "name": "ipython",
    "version": 3
   },
   "file_extension": ".py",
   "mimetype": "text/x-python",
   "name": "python",
   "nbconvert_exporter": "python",
   "pygments_lexer": "ipython3",
   "version": "3.7.4"
  }
 },
 "nbformat": 4,
 "nbformat_minor": 2
}
