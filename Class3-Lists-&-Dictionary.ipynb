{
 "cells": [
  {
   "cell_type": "markdown",
   "metadata": {},
   "source": [
    "# Lists & Dictionary in Python"
   ]
  },
  {
   "cell_type": "markdown",
   "metadata": {},
   "source": [
    "# Lists"
   ]
  },
  {
   "cell_type": "code",
   "execution_count": 2,
   "metadata": {},
   "outputs": [
    {
     "name": "stdout",
     "output_type": "stream",
     "text": [
      "['a', 12, [1, 'piku']]\n"
     ]
    }
   ],
   "source": [
    "mylist = ['a', 12, [1,'piku']]\n",
    "print(mylist)"
   ]
  },
  {
   "cell_type": "code",
   "execution_count": 3,
   "metadata": {},
   "outputs": [
    {
     "data": {
      "text/plain": [
       "12"
      ]
     },
     "execution_count": 3,
     "metadata": {},
     "output_type": "execute_result"
    }
   ],
   "source": [
    "mylist[1] # second element of list"
   ]
  },
  {
   "cell_type": "code",
   "execution_count": 4,
   "metadata": {},
   "outputs": [
    {
     "data": {
      "text/plain": [
       "3"
      ]
     },
     "execution_count": 4,
     "metadata": {},
     "output_type": "execute_result"
    }
   ],
   "source": [
    "len(mylist) # legnth of the list"
   ]
  },
  {
   "cell_type": "markdown",
   "metadata": {},
   "source": [
    " We can loop through list objects "
   ]
  },
  {
   "cell_type": "code",
   "execution_count": 11,
   "metadata": {},
   "outputs": [
    {
     "name": "stdout",
     "output_type": "stream",
     "text": [
      "Good morning Tuki\n",
      "Good morning Kartick\n",
      "Good morning Piku\n"
     ]
    }
   ],
   "source": [
    "myfrnds = ['Tuki', 'Kartick', 'Piku'] # create a lsit of friends\n",
    "for index in myfrnds :\n",
    "    print('Good morning '+ index) # print the elements of the list\n"
   ]
  },
  {
   "cell_type": "markdown",
   "metadata": {},
   "source": [
    "How to look inside a list object? We can use the index operator just like strings."
   ]
  },
  {
   "cell_type": "code",
   "execution_count": 13,
   "metadata": {},
   "outputs": [
    {
     "name": "stdout",
     "output_type": "stream",
     "text": [
      "Kartick\n"
     ]
    }
   ],
   "source": [
    "print(myfrnds[1]) # seconds element of the list"
   ]
  },
  {
   "cell_type": "code",
   "execution_count": 16,
   "metadata": {},
   "outputs": [
    {
     "name": "stdout",
     "output_type": "stream",
     "text": [
      "['Kartick', 'Piku']\n",
      "['Tuki', 'Kartick']\n"
     ]
    }
   ],
   "source": [
    "print(myfrnds[1:]) # starting from the second position print all till the end\n",
    "print(myfrnds[:2]) # starting from the zero position print upto second position exclusing the second though"
   ]
  },
  {
   "cell_type": "markdown",
   "metadata": {},
   "source": [
    "NOTE:In python list objects are mutable, i.e. we can modify a list using the index operator. Let's see how"
   ]
  },
  {
   "cell_type": "code",
   "execution_count": 18,
   "metadata": {},
   "outputs": [
    {
     "name": "stdout",
     "output_type": "stream",
     "text": [
      "Old list:  ['Tuki', 'Kartick', 'Piku']\n",
      "New list:  ['Newname', 'Kartick', 'Piku']\n"
     ]
    }
   ],
   "source": [
    "myfrnds = ['Tuki', 'Kartick', 'Piku'] # create a list\n",
    "print('Old list: ', myfrnds)\n",
    "\n",
    "myfrnds[0] = 'Newname' # change the value at index 0\n",
    "print('New list: ', myfrnds) # print the new list"
   ]
  },
  {
   "cell_type": "markdown",
   "metadata": {},
   "source": [
    "Range function return a list of numbers and it can be used to develop a loop. "
   ]
  },
  {
   "cell_type": "code",
   "execution_count": 22,
   "metadata": {},
   "outputs": [
    {
     "name": "stdout",
     "output_type": "stream",
     "text": [
      "['Tuki', 'Kartick', 'Piku']\n",
      "3\n"
     ]
    },
    {
     "data": {
      "text/plain": [
       "range(0, 3)"
      ]
     },
     "execution_count": 22,
     "metadata": {},
     "output_type": "execute_result"
    }
   ],
   "source": [
    "myfrnds = ['Tuki', 'Kartick', 'Piku'] \n",
    "print(myfrnds)\n",
    "print(len(myfrnds))\n",
    "range(len(myfrnds))"
   ]
  },
  {
   "cell_type": "markdown",
   "metadata": {},
   "source": [
    "lets see how to use range() in loop "
   ]
  },
  {
   "cell_type": "code",
   "execution_count": 29,
   "metadata": {},
   "outputs": [
    {
     "name": "stdout",
     "output_type": "stream",
     "text": [
      "Friend position: 0  Friend name: Tuki\n",
      "Friend position: 1  Friend name: Kartick\n",
      "Friend position: 2  Friend name: Piku\n"
     ]
    }
   ],
   "source": [
    "myfrnds = ['Tuki', 'Kartick', 'Piku']\n",
    "for i in range(len(myfrnds)):\n",
    "    print('Friend position:', i,' Friend name:', myfrnds[i])"
   ]
  },
  {
   "cell_type": "markdown",
   "metadata": {},
   "source": [
    "We can concatenate list using the + operator just like strings.\n"
   ]
  },
  {
   "cell_type": "code",
   "execution_count": 31,
   "metadata": {},
   "outputs": [
    {
     "name": "stdout",
     "output_type": "stream",
     "text": [
      "List after concatination:  ['A', 'B', 'C', 'X', 'Y', 'Z']\n"
     ]
    }
   ],
   "source": [
    "list_1 = ['A', 'B', 'C']\n",
    "list_2 = ['X', 'Y', 'Z']\n",
    "\n",
    "joined_list = list_1 + list_2 # concatenate two lists\n",
    "print('List after concatination: ' , joined_list) "
   ]
  },
  {
   "cell_type": "markdown",
   "metadata": {},
   "source": [
    "Lets see few other methods that can be applied to list\n"
   ]
  },
  {
   "cell_type": "code",
   "execution_count": 50,
   "metadata": {},
   "outputs": [
    {
     "name": "stdout",
     "output_type": "stream",
     "text": [
      "original list:  ['B', 'A', 'C', 'D']\n",
      "List after sorting:  ['A', 'B', 'C', 'D']\n",
      "\n",
      "[]\n",
      "['S']\n"
     ]
    },
    {
     "data": {
      "text/plain": [
       "False"
      ]
     },
     "execution_count": 50,
     "metadata": {},
     "output_type": "execute_result"
    }
   ],
   "source": [
    "list_1 = ['B', 'A', 'C']\n",
    "\n",
    "\n",
    "list_1.append('D') # append/ join a new element at the end of the list\n",
    "print('original list: ', list_1)\n",
    "\n",
    "list_1.sort() # apply sort to the list\n",
    "print('List after sorting: ', list_1)\n",
    "\n",
    "print()\n",
    "\n",
    "# create an empty list and append a new element into it\n",
    "new_list = list() \n",
    "print(new_list)\n",
    "\n",
    "new_list.append('S')\n",
    "print(new_list)\n",
    "\n",
    "'X' in list_1 # using in operator on list to check presense of an element"
   ]
  },
  {
   "cell_type": "markdown",
   "metadata": {},
   "source": [
    "We can use a loop to append elements to a list on the go. "
   ]
  },
  {
   "cell_type": "code",
   "execution_count": 58,
   "metadata": {},
   "outputs": [
    {
     "name": "stdout",
     "output_type": "stream",
     "text": [
      "index:  0\n",
      "my list: [0]\n",
      "\n",
      "index:  1\n",
      "my list: [0, 1]\n",
      "\n",
      "index:  2\n",
      "my list: [0, 1, 2]\n",
      "\n",
      "index:  3\n",
      "my list: [0, 1, 2, 3]\n",
      "\n",
      "index:  4\n",
      "my list: [0, 1, 2, 3, 4]\n",
      "\n"
     ]
    }
   ],
   "source": [
    "my_list = list()\n",
    "\n",
    "for index in range(5):\n",
    "    print('index: ', index)\n",
    "    \n",
    "    my_list.append(index) # append the index value to the list\n",
    "    print('my list:', my_list)\n",
    "    \n",
    "    print()\n",
    "\n"
   ]
  },
  {
   "cell_type": "markdown",
   "metadata": {},
   "source": [
    "Now lets see how strings and list are related. \n",
    "A string can be split into smaller parts using the 'split()' method and as output this gives a list of sub-strings.  "
   ]
  },
  {
   "cell_type": "code",
   "execution_count": 62,
   "metadata": {},
   "outputs": [
    {
     "name": "stdout",
     "output_type": "stream",
     "text": [
      "My String:My name is Saptarshi Mandal\n",
      "The string after beign split:  ['My', 'name', 'is', 'Saptarshi', 'Mandal']\n",
      "\n",
      "My\n",
      "name\n",
      "is\n",
      "Saptarshi\n",
      "Mandal\n"
     ]
    }
   ],
   "source": [
    "my_string = 'My name is Saptarshi Mandal'\n",
    "print('My String:'+ my_string)\n",
    "\n",
    "# split the string into small parts\n",
    "split_string = my_string.split() # the default delimiter is space \n",
    "print('The string after beign split: ', split_string) # display the split version of the string\n",
    "\n",
    "print()\n",
    "\n",
    "# we can also loop through the split string\n",
    "for element in split_string:\n",
    "    print(element)"
   ]
  },
  {
   "cell_type": "code",
   "execution_count": 65,
   "metadata": {},
   "outputs": [
    {
     "name": "stdout",
     "output_type": "stream",
     "text": [
      "['grape:mango', 'guava']\n"
     ]
    }
   ],
   "source": [
    "new_string = 'grape:mango;guava'\n",
    "split_string = new_string.split(';') # delimiter is semicolon\n",
    "print(split_string) "
   ]
  },
  {
   "cell_type": "markdown",
   "metadata": {},
   "source": [
    "Lets apply everything we learnt now, where we will read data from a text file, will find some pattern into it, will split the data if pattern is found."
   ]
  },
  {
   "cell_type": "code",
   "execution_count": 1,
   "metadata": {},
   "outputs": [
    {
     "name": "stdout",
     "output_type": "stream",
     "text": [
      " abc@gmail.com\n",
      "xyz@outlook.com\n",
      "saptarshi@ou.edu\n",
      "mandal@gmail.com\n"
     ]
    }
   ],
   "source": [
    "fhandle = open('emailList.txt')\n",
    "for lines in fhandle:\n",
    "    lines = lines.rstrip()\n",
    "   \n",
    "    if not lines.startswith('email'): continue # if lines \n",
    "        \n",
    "    words = lines.split(':') # split at colon , we need to import another library to perform splitting with multiple delimiters\n",
    "    print(words[1])"
   ]
  },
  {
   "cell_type": "markdown",
   "metadata": {},
   "source": [
    "# Dictionary"
   ]
  },
  {
   "cell_type": "markdown",
   "metadata": {},
   "source": [
    "Dictionary is a bag/collection of objects with no order. So, indexing happens using a lookup tag. In other words, dictionaries are like list but in the former case we use keys/tags instead of numbers to look up for values."
   ]
  },
  {
   "cell_type": "code",
   "execution_count": 4,
   "metadata": {},
   "outputs": [
    {
     "name": "stdout",
     "output_type": "stream",
     "text": [
      "{'money': 10, 'candy': 15, 'fruit': 5}\n",
      "15\n"
     ]
    }
   ],
   "source": [
    "# create a empty dictionary\n",
    "purse = dict()\n",
    "\n",
    "# Fill in values\n",
    "purse['money'] = 10\n",
    "purse['candy'] = 15\n",
    "purse['fruit'] = 5\n",
    "\n",
    "print(purse)\n",
    "print(purse['candy'])# show amount of candy in purse"
   ]
  },
  {
   "cell_type": "code",
   "execution_count": 2,
   "metadata": {},
   "outputs": [
    {
     "name": "stdout",
     "output_type": "stream",
     "text": [
      "{'money': 10, 'candy': 20, 'fruit': 5}\n"
     ]
    }
   ],
   "source": [
    "# We can manipulate the dictionary values usign their tag\n",
    "purse['candy'] = purse['candy'] + 5 # increase candy valu by 5\n",
    "print(purse)"
   ]
  },
  {
   "cell_type": "markdown",
   "metadata": {},
   "source": [
    "We can also build a dictionary using key:value pairs inside curly braces (i.e. {} )"
   ]
  },
  {
   "cell_type": "code",
   "execution_count": 6,
   "metadata": {},
   "outputs": [
    {
     "name": "stdout",
     "output_type": "stream",
     "text": [
      "My family :  {'piku': 32, 'pinki': 38, 'kartick': 65, 'sarbani': 63}\n",
      "New family :  {'piku': 32, 'pinki': 38, 'kartick': 65, 'sarbani': 63, 'ana': 28}\n"
     ]
    }
   ],
   "source": [
    "my_family_age = {'piku':32, 'pinki': 38, 'kartick': 65, 'sarbani': 63 }\n",
    "print('My family : ', my_family_age)\n",
    "\n",
    "# adding a new member to the family\n",
    "my_family_age['ana'] = 28\n",
    "print('New family : ', my_family_age)"
   ]
  },
  {
   "cell_type": "markdown",
   "metadata": {},
   "source": [
    "We can use 'in' function to check whether a key exists within a dictionary of not. Let's see how to do it."
   ]
  },
  {
   "cell_type": "code",
   "execution_count": 8,
   "metadata": {},
   "outputs": [
    {
     "name": "stdout",
     "output_type": "stream",
     "text": [
      "Saptarshi does not exit in family age data\n"
     ]
    }
   ],
   "source": [
    "# if saptarshi exits in familty age data show its value\n",
    "if 'saptashi' in my_family_age: \n",
    "    print(my_family_age['saptarshi'])\n",
    "else:\n",
    "    print('Saptarshi does not exit in family age data')"
   ]
  },
  {
   "cell_type": "markdown",
   "metadata": {},
   "source": [
    "We can add new key data on the go using a loop. "
   ]
  },
  {
   "cell_type": "code",
   "execution_count": 13,
   "metadata": {},
   "outputs": [
    {
     "name": "stdout",
     "output_type": "stream",
     "text": [
      "Initial dictionary: {}\n",
      "\n",
      "new dictionary: {'piku': 1, 'pinki': 1, 'kartick': 1, 'sarbani': 1}\n"
     ]
    }
   ],
   "source": [
    "name_age_dict = {} # empty dictionary\n",
    "print('Initial dictionary:', name_age_dict)\n",
    "\n",
    "print() # print a blank line for readability\n",
    "\n",
    "name_list = ['piku', 'pinki', 'kartick', 'sarbani'] # list of names\n",
    "\n",
    "for name in name_list:\n",
    "    \n",
    "    if name not in name_age_dict:\n",
    "        # add the name key and its value\n",
    "        name_age_dict[name] = 1\n",
    "        \n",
    "    else:\n",
    "        # increase the name key value\n",
    "        name_age_dict[name] = name_age_dict[name] + 1\n",
    "        \n",
    "print('new dictionary:', name_age_dict)"
   ]
  },
  {
   "cell_type": "code",
   "execution_count": 17,
   "metadata": {},
   "outputs": [
    {
     "name": "stdout",
     "output_type": "stream",
     "text": [
      "Age of Pinki: 1\n",
      "Age of Ram: 0\n"
     ]
    }
   ],
   "source": [
    "pinki_age = name_age_dict.get('pinki', 0)\n",
    "print('Age of Pinki:', pinki_age)\n",
    "\n",
    "ram_age = name_age_dict.get('ram', 0)\n",
    "print('Age of Ram:', ram_age)"
   ]
  },
  {
   "cell_type": "code",
   "execution_count": null,
   "metadata": {},
   "outputs": [],
   "source": []
  }
 ],
 "metadata": {
  "kernelspec": {
   "display_name": "Python 3",
   "language": "python",
   "name": "python3"
  },
  "language_info": {
   "codemirror_mode": {
    "name": "ipython",
    "version": 3
   },
   "file_extension": ".py",
   "mimetype": "text/x-python",
   "name": "python",
   "nbconvert_exporter": "python",
   "pygments_lexer": "ipython3",
   "version": "3.7.4"
  }
 },
 "nbformat": 4,
 "nbformat_minor": 2
}
